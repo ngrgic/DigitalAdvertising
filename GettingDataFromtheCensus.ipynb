{
 "cells": [
  {
   "cell_type": "markdown",
   "metadata": {},
   "source": [
    "# Getting Census data from CensusReporter\n",
    "## Marketing use case for coffee from Mintel Report\n",
    "### Homework for Digital Advertising, goal is to introduce APIs and use CensusReporter to determine what metro area has the highest population of our target market in launching a product "
   ]
  },
  {
   "cell_type": "code",
   "execution_count": 11,
   "metadata": {},
   "outputs": [],
   "source": [
    "#Neven Grgic\n",
    "#Python Exercise 7\n",
    "#10/11/18\n",
    "\n",
    "import pandas as pd\n",
    "import requests\n",
    "import json\n",
    "\n",
    "#data can be found in github repo\n",
    "df = pd.read_csv('msas.csv')"
   ]
  },
  {
   "cell_type": "code",
   "execution_count": 12,
   "metadata": {},
   "outputs": [],
   "source": [
    "#Select tables of interest from Census Reporter and make into one string to later paste into URL\n",
    "tableids = ['B01001', 'B03002', 'B19001']\n",
    "tableidstring = ','.join(tableids)\n",
    "\n",
    "#Select cities of interest from csv and make into one string to later paste into URL\n",
    "geoid = list(map(str,df['CBSA']))\n",
    "for i in range(382):\n",
    "    geoid[i] = \"31000US\" + geoid[i]\n",
    "geoidstring = ','.join(geoid)    \n"
   ]
  },
  {
   "cell_type": "code",
   "execution_count": 13,
   "metadata": {},
   "outputs": [],
   "source": [
    "#Get the json data from CensusReporter. Must be done in 2 sections as one request is too much for the webpage\n",
    "requesturl = 'http://api.censusreporter.org/1.0/data/show/latest?table_ids=%s&geo_ids=%s' % (tableidstring, geoidstring[0:2001])\n",
    "loadedjson = requests.get(requesturl)\n",
    "parsedjson = json.loads(loadedjson.text)\n",
    "\n",
    "requesturl = 'http://api.censusreporter.org/1.0/data/show/latest?table_ids=%s&geo_ids=%s' % (tableidstring, geoidstring[2002:])\n",
    "loadedjson = requests.get(requesturl)\n",
    "parsedjson2 = json.loads(loadedjson.text)\n"
   ]
  },
  {
   "cell_type": "code",
   "execution_count": 14,
   "metadata": {},
   "outputs": [],
   "source": [
    "#get relevant income populations (50-75k) from each json and add to our df\n",
    "IncomePop = []\n",
    "\n",
    "for i in range(154):\n",
    "    IncomePop.append(parsedjson['data'][geoid[i]]['B19001']['estimate']['B19001011']+\n",
    "    parsedjson['data'][geoid[i]]['B19001']['estimate']['B19001012'])\n",
    "for i in range(228):\n",
    "    IncomePop.append(parsedjson2['data'][geoid[154+i]]['B19001']['estimate']['B19001011']+\n",
    "    parsedjson2['data'][geoid[154+i]]['B19001']['estimate']['B19001012'])\n",
    "    \n",
    "df['Population Making 50-75k'] = IncomePop\n"
   ]
  },
  {
   "cell_type": "code",
   "execution_count": 15,
   "metadata": {},
   "outputs": [],
   "source": [
    "#get relevant age range data (18-34) from each json and add to df\n",
    "AgeRangePop = []\n",
    "\n",
    "for i in range(154):\n",
    "    AgeRangePop.append(parsedjson['data'][geoid[i]]['B01001']['estimate']['B01001007'] +\n",
    "    parsedjson['data'][geoid[i]]['B01001']['estimate']['B01001008'] +\n",
    "    parsedjson['data'][geoid[i]]['B01001']['estimate']['B01001009']+\n",
    "    parsedjson['data'][geoid[i]]['B01001']['estimate']['B01001010']+\n",
    "    parsedjson['data'][geoid[i]]['B01001']['estimate']['B01001011']+\n",
    "    parsedjson['data'][geoid[i]]['B01001']['estimate']['B01001012']+\n",
    "    parsedjson['data'][geoid[i]]['B01001']['estimate']['B01001031']+\n",
    "    parsedjson['data'][geoid[i]]['B01001']['estimate']['B01001032']+\n",
    "    parsedjson['data'][geoid[i]]['B01001']['estimate']['B01001033']+\n",
    "    parsedjson['data'][geoid[i]]['B01001']['estimate']['B01001034']+\n",
    "    parsedjson['data'][geoid[i]]['B01001']['estimate']['B01001035']+\n",
    "    parsedjson['data'][geoid[i]]['B01001']['estimate']['B01001036'])\n",
    "for i in range(228):\n",
    "    AgeRangePop.append(parsedjson2['data'][geoid[154+i]]['B01001']['estimate']['B01001007'] +\n",
    "    parsedjson2['data'][geoid[154+i]]['B01001']['estimate']['B01001008'] +\n",
    "    parsedjson2['data'][geoid[154+i]]['B01001']['estimate']['B01001009']+\n",
    "    parsedjson2['data'][geoid[154+i]]['B01001']['estimate']['B01001010']+\n",
    "    parsedjson2['data'][geoid[154+i]]['B01001']['estimate']['B01001011']+\n",
    "    parsedjson2['data'][geoid[154+i]]['B01001']['estimate']['B01001012']+\n",
    "    parsedjson2['data'][geoid[154+i]]['B01001']['estimate']['B01001031']+\n",
    "    parsedjson2['data'][geoid[154+i]]['B01001']['estimate']['B01001032']+\n",
    "    parsedjson2['data'][geoid[154+i]]['B01001']['estimate']['B01001033']+\n",
    "    parsedjson2['data'][geoid[154+i]]['B01001']['estimate']['B01001034']+\n",
    "    parsedjson2['data'][geoid[154+i]]['B01001']['estimate']['B01001035']+\n",
    "    parsedjson2['data'][geoid[154+i]]['B01001']['estimate']['B01001036'])\n",
    "\n",
    "df['Population aged 18-34'] = AgeRangePop\n"
   ]
  },
  {
   "cell_type": "code",
   "execution_count": 16,
   "metadata": {},
   "outputs": [],
   "source": [
    "#get population of hispanics from each json and add to df\n",
    "HispanicPop = []\n",
    "for i in range(154):\n",
    "    HispanicPop.append(parsedjson['data'][geoid[i]]['B03002']['estimate']['B03002012'])\n",
    "for i in range(228):\n",
    "    HispanicPop.append(parsedjson2['data'][geoid[154+i]]['B03002']['estimate']['B03002012'])\n",
    "\n",
    "df['Hispanic Population'] = HispanicPop\n"
   ]
  },
  {
   "cell_type": "code",
   "execution_count": 17,
   "metadata": {},
   "outputs": [
    {
     "name": "stdout",
     "output_type": "stream",
     "text": [
      "========================================\n",
      "City with the Most People Making 50-75k\n",
      "========================================\n",
      "                                      NAME  Population Making 50-75k\n",
      "249  New York-Newark-Jersey City, NY-NJ-PA                 1038188.0\n",
      "\n",
      "========================================\n",
      "City with the Most People Aged 18-34\n",
      "========================================\n",
      "                                      NAME  Population aged 18-34\n",
      "249  New York-Newark-Jersey City, NY-NJ-PA              4806939.0\n",
      "\n",
      "========================================\n",
      "City with the Highest Hispanic Population\n",
      "========================================\n",
      "                                   NAME  Hispanic Population\n",
      "210  Los Angeles-Long Beach-Anaheim, CA            6031492.0\n"
     ]
    }
   ],
   "source": [
    "#Find max population for income figure\n",
    "print(\"========================================\")\n",
    "print(\"City with the Most People Making 50-75k\")\n",
    "print(\"========================================\")\n",
    "pd.set_option('display.max_columns', None)\n",
    "HighIncome = df[df['Population Making 50-75k'] == max(df['Population Making 50-75k'])]\n",
    "print(HighIncome[['NAME', 'Population Making 50-75k']])\n",
    "\n",
    "#find max population for age range\n",
    "print()\n",
    "print(\"========================================\")\n",
    "print(\"City with the Most People Aged 18-34\")\n",
    "print(\"========================================\")\n",
    "TopAge = df[df['Population aged 18-34'] == max(df['Population aged 18-34'])]\n",
    "print(TopAge[['NAME', 'Population aged 18-34']])\n",
    "\n",
    "#find max population for Hispanic population\n",
    "print()\n",
    "print(\"========================================\")\n",
    "print(\"City with the Highest Hispanic Population\")\n",
    "print(\"========================================\")\n",
    "TopHispanic = df[df['Hispanic Population'] == max(df['Hispanic Population'])]\n",
    "print(TopHispanic[['NAME', 'Hispanic Population']])"
   ]
  },
  {
   "cell_type": "code",
   "execution_count": 18,
   "metadata": {},
   "outputs": [
    {
     "name": "stdout",
     "output_type": "stream",
     "text": [
      "\n",
      "========================================\n",
      "City with the Highest Average Percentage\n",
      "========================================\n",
      "                                      NAME  Average %\n",
      "249  New York-Newark-Jersey City, NY-NJ-PA   0.942684\n"
     ]
    }
   ],
   "source": [
    "#Rescale each parameter as a percentage and average across rows. Percentage works as an index essentially. \n",
    "df['Income %'] = df['Population Making 50-75k']/max(df['Population Making 50-75k'])\n",
    "df['Age %'] = df['Population aged 18-34']/max(df['Population aged 18-34'])\n",
    "df['Hispanic %'] = df['Hispanic Population']/max(df['Hispanic Population'])\n",
    "df['Average %'] = df[['Income %', 'Age %', 'Hispanic %']].mean(axis = 1)\n",
    "\n",
    "#Find the city with the highest average percentage to launch our product in\n",
    "print()\n",
    "print(\"========================================\")\n",
    "print(\"City with the Highest Average Percentage\")\n",
    "print(\"========================================\")\n",
    "TopPercentage = df[df['Average %'] == max(df['Average %'])]\n",
    "print(TopPercentage[['NAME', 'Average %']])"
   ]
  }
 ],
 "metadata": {
  "kernelspec": {
   "display_name": "Python 3",
   "language": "python",
   "name": "python3"
  },
  "language_info": {
   "codemirror_mode": {
    "name": "ipython",
    "version": 3
   },
   "file_extension": ".py",
   "mimetype": "text/x-python",
   "name": "python",
   "nbconvert_exporter": "python",
   "pygments_lexer": "ipython3",
   "version": "3.6.5"
  }
 },
 "nbformat": 4,
 "nbformat_minor": 2
}
