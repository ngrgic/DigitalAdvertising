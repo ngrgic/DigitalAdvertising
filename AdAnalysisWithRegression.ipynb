{
 "cells": [
  {
   "cell_type": "markdown",
   "metadata": {},
   "source": [
    "# Basic Ad Analysis Using Regression\n",
    "## Neven Grgic\n",
    "### Homework for Digital Advertising, goal is to identify which day of the week is the least expensive for advertising and introduce correlation and regression in python"
   ]
  },
  {
   "cell_type": "code",
   "execution_count": 7,
   "metadata": {},
   "outputs": [],
   "source": [
    "import pandas as pd\n",
    "import arrow\n",
    "import statsmodels.api as sm\n",
    "\n",
    "#read in dataframe(data available in github repo)\n",
    "df = pd.read_csv('Travel Pony Facebook.csv')\n",
    "\n",
    "#Create a column for cost per impression\n",
    "df['CostPerImpression'] = df['Amount Spent (USD)']/df['Impressions']"
   ]
  },
  {
   "cell_type": "code",
   "execution_count": 8,
   "metadata": {},
   "outputs": [],
   "source": [
    "#Parse out the day of the week from start date\n",
    "\n",
    "Start = df['Start Date']\n",
    "dayoftheweek = []\n",
    "\n",
    "for i in range(0,3705):\n",
    "    dt = arrow.get(Start[i], 'M/D/YYYY')\n",
    "    dayoftheweek.append(dt.isoweekday())"
   ]
  },
  {
   "cell_type": "code",
   "execution_count": 9,
   "metadata": {},
   "outputs": [
    {
     "name": "stdout",
     "output_type": "stream",
     "text": [
      "DayOfWeek                1        2         3         4         5         6  \\\n",
      "CostPerImpression  0.00291  0.00304  0.002981  0.003398  0.004097  0.002629   \n",
      "\n",
      "DayOfWeek                 7  \n",
      "CostPerImpression  0.003688  \n"
     ]
    }
   ],
   "source": [
    "#add the day of the week into our dataframe\n",
    "df['DayOfWeek'] = dayoftheweek\n",
    "\n",
    "#Make a pivot table of the average cost per impression of each day of the week\n",
    "Averages = pd.pivot_table(df, values = 'CostPerImpression', columns = 'DayOfWeek', aggfunc = 'mean')\n",
    "print(Averages)"
   ]
  },
  {
   "cell_type": "code",
   "execution_count": 10,
   "metadata": {},
   "outputs": [
    {
     "name": "stdout",
     "output_type": "stream",
     "text": [
      "                    Amount Spent (USD)     Reach  Frequency  Unique Clicks  \\\n",
      "Amount Spent (USD)            1.000000  0.703124   0.130201       0.882993   \n",
      "Reach                         0.703124  1.000000   0.334101       0.722249   \n",
      "Frequency                     0.130201  0.334101   1.000000       0.135103   \n",
      "Unique Clicks                 0.882993  0.722249   0.135103       1.000000   \n",
      "Page Likes                    0.757612  0.304388   0.000182       0.584614   \n",
      "\n",
      "                    Page Likes  \n",
      "Amount Spent (USD)    0.757612  \n",
      "Reach                 0.304388  \n",
      "Frequency             0.000182  \n",
      "Unique Clicks         0.584614  \n",
      "Page Likes            1.000000  \n"
     ]
    }
   ],
   "source": [
    "##Question 2 - Find correlation with amount spent for a few variables\n",
    "trimmedDF = df[['Amount Spent (USD)','Reach', 'Frequency', 'Unique Clicks', 'Page Likes']]\n",
    "\n",
    "print(trimmedDF.corr())"
   ]
  },
  {
   "cell_type": "code",
   "execution_count": 12,
   "metadata": {},
   "outputs": [
    {
     "name": "stdout",
     "output_type": "stream",
     "text": [
      "                            OLS Regression Results                            \n",
      "==============================================================================\n",
      "Dep. Variable:          Unique Clicks   R-squared:                       0.557\n",
      "Model:                            OLS   Adj. R-squared:                  0.556\n",
      "Method:                 Least Squares   F-statistic:                     2325.\n",
      "Date:                Thu, 18 Oct 2018   Prob (F-statistic):               0.00\n",
      "Time:                        15:26:33   Log-Likelihood:                -15973.\n",
      "No. Observations:                3705   AIC:                         3.195e+04\n",
      "Df Residuals:                    3703   BIC:                         3.196e+04\n",
      "Df Model:                           2                                         \n",
      "Covariance Type:            nonrobust                                         \n",
      "==============================================================================\n",
      "                 coef    std err          t      P>|t|      [0.025      0.975]\n",
      "------------------------------------------------------------------------------\n",
      "Reach          0.0019   3.12e-05     62.490      0.000       0.002       0.002\n",
      "Frequency      3.6139      0.298     12.109      0.000       3.029       4.199\n",
      "==============================================================================\n",
      "Omnibus:                     5107.616   Durbin-Watson:                   0.803\n",
      "Prob(Omnibus):                  0.000   Jarque-Bera (JB):          5128392.747\n",
      "Skew:                           7.331   Prob(JB):                         0.00\n",
      "Kurtosis:                     184.674   Cond. No.                     9.84e+03\n",
      "==============================================================================\n",
      "\n",
      "Warnings:\n",
      "[1] Standard Errors assume that the covariance matrix of the errors is correctly specified.\n",
      "[2] The condition number is large, 9.84e+03. This might indicate that there are\n",
      "strong multicollinearity or other numerical problems.\n"
     ]
    }
   ],
   "source": [
    "##Question 3 perform a regression predicting unique clicks with Reach and Frequency\n",
    "\n",
    "#make independent and dependent variables\n",
    "x = df[['Reach', 'Frequency']]\n",
    "y = df['Unique Clicks']\n",
    "\n",
    "#run the regrssion and get the summary to interpret results\n",
    "model = sm.OLS(y,x).fit()\n",
    "print(model.summary())"
   ]
  }
 ],
 "metadata": {
  "kernelspec": {
   "display_name": "Python 3",
   "language": "python",
   "name": "python3"
  },
  "language_info": {
   "codemirror_mode": {
    "name": "ipython",
    "version": 3
   },
   "file_extension": ".py",
   "mimetype": "text/x-python",
   "name": "python",
   "nbconvert_exporter": "python",
   "pygments_lexer": "ipython3",
   "version": "3.6.5"
  }
 },
 "nbformat": 4,
 "nbformat_minor": 2
}
